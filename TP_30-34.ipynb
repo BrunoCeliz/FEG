{
 "cells": [
  {
   "cell_type": "markdown",
   "id": "ea0d38bc-2ac7-4ba4-9a14-b987212e7263",
   "metadata": {},
   "source": [
    "# 30)\n",
    "*Me falta un $\\frac{1}{2}$ que no sé de dónde sacarlo...*"
   ]
  },
  {
   "cell_type": "markdown",
   "id": "c4fb977b-da53-49e4-a3e4-25d66016dac9",
   "metadata": {},
   "source": [
    "# 31)\n",
    "#### Para calcular el tiempo de caída \"$t_{ff}$\", pensemos en un objeto que parte del reposo a un distancia $r_0$ del centro de un halo esférico de materia oscura de tamaño $r_0$ y masa $M$. Por cosnervación de la energía:\n",
    "### $E_i = E = K + W$\n",
    "### $-\\frac{GMm}{r_0} = \\frac{m v^2}{2} - \\frac{GMm}{r}$\n",
    "### $-\\frac{GM}{r_0} = \\frac{v^2}{2} - \\frac{GM}{r}$\n",
    "### $2GM [\\frac{1}{r} - \\frac{1}{r_0}] = (\\frac{dr}{dt})^2$\n",
    "### $M = \\frac{4}{3} \\pi \\rho_0 r_0^3$\n",
    "### $\\frac{dr}{dt} = \\sqrt{\\frac{2G4\\pi \\rho_0 r_0^3}{3 r_0} (\\frac{r_0}{r} -1)}$\n",
    "#### Como quiero saber el tiempo que se demora, despejo\n",
    "### $dt = \\sqrt{\\frac{3}{8\\pi G \\rho_0 r_0^2}} (\\frac{r_0}{r} -1)^{-1/2} dr$\n",
    "### $t_{ff} = \\sqrt{\\frac{3}{8\\pi G \\rho_0 r_0^2}} \\int_{r_0}^0 (\\frac{r_0}{r} -1)^{-1/2} dr$\n",
    "### $t_{ff} = \\sqrt{\\frac{3}{8\\pi G \\rho_0 r_0^2}} \\cdot \\frac{\\pi r_0}{2}$\n",
    "### $t_{ff} = \\sqrt{\\frac{3 \\pi^2 r_0^2}{8\\pi G \\rho_0 r_0^2 4}}$\n",
    "### $t_{ff} = \\sqrt{\\frac{3 \\pi}{32 G \\rho_0}}$"
   ]
  },
  {
   "cell_type": "markdown",
   "id": "36f2eaf4-8600-49e6-bd17-6af76dc86c71",
   "metadata": {},
   "source": [
    "# 32)\n",
    "*Hecho en 14)...*"
   ]
  },
  {
   "cell_type": "markdown",
   "id": "b64cd149-e07f-4678-a3dc-f762b66aa7f2",
   "metadata": {},
   "source": [
    "# 33)\n",
    "*Ni idea qué me hace falta.*"
   ]
  },
  {
   "cell_type": "markdown",
   "id": "1e561de6-77dd-47d0-a6e5-64548f48d4b0",
   "metadata": {},
   "source": [
    "# 34)\n",
    "*Ni idea cómo hacerlo.*"
   ]
  },
  {
   "cell_type": "code",
   "execution_count": null,
   "id": "01c576ac-6c59-4f74-8ac3-911f80f4db4f",
   "metadata": {},
   "outputs": [],
   "source": []
  }
 ],
 "metadata": {
  "kernelspec": {
   "display_name": "Python 3",
   "language": "python",
   "name": "python3"
  },
  "language_info": {
   "codemirror_mode": {
    "name": "ipython",
    "version": 3
   },
   "file_extension": ".py",
   "mimetype": "text/x-python",
   "name": "python",
   "nbconvert_exporter": "python",
   "pygments_lexer": "ipython3",
   "version": "3.8.8"
  }
 },
 "nbformat": 4,
 "nbformat_minor": 5
}
