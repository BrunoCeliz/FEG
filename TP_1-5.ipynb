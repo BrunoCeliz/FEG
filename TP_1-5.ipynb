{
 "cells": [
  {
   "cell_type": "markdown",
   "id": "6b1d821f-bbb3-46da-b43a-aa19b6dd551c",
   "metadata": {},
   "source": [
    "# 1)\n",
    "#### Queremos la densidad de luminosidad del universo, dada la función de luminosidad\n",
    "### $\\Phi(L) dL = \\frac{\\Phi_0}{L_0} (\\frac{L}{L_0})^{\\alpha}e^{-\\frac{L}{L_0}} dL$\n",
    "#### Que nos indica la cantidad de galaxias con luminosidad $L \\in (L \\pm \\frac{L}{2})$. Para la densidad de luminosidad del universo calculamos\n",
    "### $\\mathcal{L} = \\int_0^{\\infty} \\Phi(L) L dL$\n",
    "### $\\mathcal{L} = \\Phi_0 \\int_0^{\\infty} (\\frac{L}{L_0})^{\\alpha}e^{-\\frac{L}{L_0}} \\frac{L}{L_0} dL$\n",
    "### Sea $t = \\frac{L}{L_0}$; $dt = \\frac{dL}{L_0}$, tenemos\n",
    "### $\\mathcal{L} = \\Phi_0 L_0 \\int_0^{\\infty} t^{\\alpha+1}e^{-t} dt$\n",
    "### Además, sabemos que $\\Gamma(X) = \\int_0^{\\infty} t^{X-1}e^{-t} dt$\n",
    "### $\\therefore \\mathcal{L} = \\Phi_0 L_0 \\Gamma(\\alpha+2)$"
   ]
  },
  {
   "cell_type": "markdown",
   "id": "5517e354-6109-497f-98eb-553be03b64c0",
   "metadata": {},
   "source": [
    "# 2)\n",
    "\n",
    "#### La densidad de energía de la radiación del *CMB* la podemos calcular mediante la ley de Stefan-Boltzmann:\n",
    "### $\\rho_r = \\frac{4 \\sigma_{SB}}{c^3} T_{CMB}^4$; con $T_{CMB} \\approx 2.73 K$\n",
    "#### Y, para saber la densidad de energía de la materia visible, usando lo obtenido en **1)**, sabemos que:\n",
    "### $\\rho_b = \\frac{M}{V}$ y $\\mathcal{L} = \\frac{L}{V}$\n",
    "### $\\therefore \\frac{M}{L} = \\Upsilon = \\frac{\\rho_b}{\\mathcal{L}}$\n",
    "#### *Donde $\\Upsilon$ está definida como \"razón Masa-Luminosidad\"*\n",
    "#### Luego, utilizamos los valores de los parámetros $(\\alpha,\\Phi_0,L_0) = (-1.2,1.2\\cdot10^{-3} \\frac{h}{Mpc^3},1.24 \\cdot 10^{10} \\frac{L_{\\odot}}{h^2})$ y $\\Upsilon = 5$ *(de **MBW**)*, y pasamos todo al sistema de unidades **C.G.S.** para comparar $\\rho_r$ con $\\rho_b$:\n",
    "### $\\rho_r \\approx 4.666 \\cdot 10^{-34} \\frac{grs}{cm^3}$ y $\\rho_b \\approx 1.124 \\cdot 10^{-31} h \\frac{grs}{cm^3}$"
   ]
  },
  {
   "cell_type": "markdown",
   "id": "6e620267-709b-4b36-b177-ad3e279ea440",
   "metadata": {},
   "source": [
    "# 3)\n",
    "\n",
    "#### En este caso, asumimos $\\Upsilon = 1$ y comparamos $\\rho_b$ con la densidad crítica del universo a $z=0$ $\\rho_{c,0}$. Esta está definida como:\n",
    "### $\\rho_{c,0} = \\frac{3 H_0^2}{8 \\pi G}$; $H_0 = 100 h \\frac{km}{s} \\frac{1}{Mpc}$\n",
    "#### Si nuevamente pasamos al sistema **C.G.S.** tenemos que\n",
    "### $\\rho_{c,0} \\approx 1.879 \\cdot 10^{-29} h^2 \\frac{grs}{cm^3}$ y $\\rho_b \\approx 2.248 \\cdot 10^{-32} h \\frac{grs}{cm^3}$\n",
    "#### Es decir:\n",
    "### $\\Omega_{b,0} = \\frac{\\rho_b}{\\rho_{c,0}} \\approx 0.001 h^{-1}$"
   ]
  },
  {
   "cell_type": "markdown",
   "id": "97ed5c56-43f5-41ba-81bc-f659432fdc69",
   "metadata": {},
   "source": [
    "# 4)\n",
    "\n",
    "#### Queremos calcular la luminosidad total de un sistema esférica que sigue un perfil de Sérsic:\n",
    "### $L = 2 \\pi \\int_0^{\\infty} I(R) R dR$; con $I(R) = I_0 exp[-\\beta_n(\\frac{R}{R_e})^{1/n}]$\n",
    "### $L = 2 \\pi \\int_0^{\\infty} I_0 exp[-\\beta_n(\\frac{R}{R_e})^{1/n}] R dR$\n",
    "#### Para ello, como cálculo auxiliar utilizamos:\n",
    "### $t = \\beta_n(\\frac{R}{R_e})^{1/n}$; $dt = \\frac{\\beta_n}{R_e} \\frac{1}{n} (\\frac{R}{R_e})^{\\frac{1}{n} -1} dR$; $\\Gamma(2n) = \\int_0^{\\infty} t^{2n-1} e^{-t} dt$\n",
    "#### Entonces\n",
    "### $L = 2 \\pi I_0 n (\\frac{R_e}{\\beta_n^n})^2 \\int_0^{\\infty} e^{-t} (\\frac{R}{R_e})^2 (\\frac{R}{R_e})^{\\frac{-1}{n}} \\frac{\\beta_n^{2n}}{\\beta_n} dt$\n",
    "### $\\therefore L = \\frac{2 \\pi n I_0 R_e^2}{\\beta_n^{2n}} \\Gamma(2n)$\n",
    "#### Luego, reemplacemos $n=1$ para un perfil exponencial y $n=4$ para uno de de Vaucouleurs:\n",
    "### $n=1 \\Rightarrow L_1 = \\frac{2 \\pi I_0 R_e^2}{\\beta_1^2} \\Gamma(2) \\approx 6.28 I_0 (\\frac{R_e}{\\beta_1})^2$\n",
    "### $n=4 \\Rightarrow L_4 = \\frac{8 \\pi I_0 R_e^2}{\\beta_4^8} \\Gamma(8) \\approx 1.27 \\cdot 10^5 I_0 \\frac{R^2_e}{\\beta^8_4}$\n",
    "#### *Por si suma:*\n",
    "#### Si aproximamos $\\beta_n \\approx 2n - 0.324$ obtenemos:\n",
    "### $n=1 \\Rightarrow L_1 \\approx 2.23 I_0 R_e^2$\n",
    "### $n=4 \\Rightarrow L_4 \\approx 0.01 I_0 R_e^2$"
   ]
  },
  {
   "cell_type": "markdown",
   "id": "8cf50d90-2825-4322-831b-a99c05c190fe",
   "metadata": {},
   "source": [
    "# 5)\n",
    "\n",
    "#### Queremos deducir el teorema del virial:\n",
    "### $2K = -W$\n",
    "#### Para ello, comencemos considerando un sistema de partículas no-colisionales interactuando gravitatoriametne. La aceleración que sufre la partícula $i$ por las demás partículas es\n",
    "### $\\ddot{r_i} = \\sum_{j \\neq i} \\frac{Gm_j(r_j - r_i)}{|r_i - r_j|^3}$\n",
    "#### Multiplicando a ambos lados por $m_i r_i$ y sabiendo que\n",
    "### $\\frac{1}{2} \\frac{d^2}{dt^2} (r_i^2) = \\frac{d}{dt} (\\dot{r_i} \\cdot r_i) = \\ddot{r_i} \\cdot r_i + \\dot{r_i}^2$\n",
    "#### Escribimos\n",
    "### $m_i (r_i \\cdot \\ddot{r_i}) = \\sum_{j \\neq i} Gm_j m_i \\frac{r_i \\cdot (r_j - r_i)}{|r_i - r_j|^3}$\n",
    "### $\\frac{1}{2} \\frac{d^2}{dt^2} (m_i r_i^2) - m_i \\dot{r_i}^2 = \\sum_{j \\neq i} Gm_j m_i \\frac{r_i \\cdot (r_j - r_i)}{|r_i - r_j|^3}$\n",
    "#### Como queremos una cantidad asociada al sistema entero, sumemos sobre todas las partículas que conforman el sistema:\n",
    "### $ \\frac{1}{2} \\frac{d^2}{dt^2} \\sum_i (m_i r_i^2) - \\sum_i m_i \\dot{r_i}^2 = \\sum_i \\sum_{j \\neq i} Gm_j m_i \\frac{r_i \\cdot (r_j - r_i)}{|r_i - r_j|^3}$\n",
    "#### Luego, como $\\vec{F_{ij}} = - \\vec{F_{ji}}$, sumemos la parte derecha de la igualdad de los casos $ij$ y $ji$:\n",
    "### $Gm_j m_i[\\frac{r_i \\cdot (r_j - r_i)}{|r_i - r_j|^3} + \\frac{r_j \\cdot (r_i - r_j)}{|r_j - r_i|^3}] =$\n",
    "#### Distribuyendo términos...\n",
    "### $= Gm_j m_i[\\frac{r_i \\cdot r_j - r_i^2 + r_j \\cdot r_i - r_j^2}{|r_j - r_i|^3}]$\n",
    "### $= -Gm_j m_i[\\frac{-2 r_i \\cdot r_j + r_i^2 + r_j^2}{|r_j - r_i|^3}]$\n",
    "### $= -Gm_j m_i[\\frac{|r_j - r_i|^2}{|r_j - r_i|^3}]$\n",
    "### $= -\\frac{Gm_j m_i}{|r_j - r_i|}]$\n",
    "### $\\therefore \\frac{1}{2} \\frac{d^2}{dt^2} \\sum_i (m_i r_i^2) - \\sum_i m_i \\dot{r_i}^2 = -\\frac{1}{2} \\sum_{i,j} \\sum_{j \\neq i} \\frac{Gm_j m_i}{|r_j - r_i|}$\n",
    "#### *Donde agregamos el \"$\\frac{1}{2}$\" porque se repite la suma del par $ij$, $ji$*.\n",
    "#### Entonces, identificamos cada término:\n",
    "### $K = \\frac{1}{2} \\sum_i (m_i r_i^2)$ y $W = -\\frac{1}{2} \\sum_{i,j} \\sum_{j \\neq i} \\frac{Gm_j m_i}{|r_j - r_i|}$\n",
    "### $\\therefore \\frac{1}{2} \\frac{d^2}{dt^2} \\sum_i (m_i r_i^2) = 2K + W$\n",
    "#### Y el sistema se dice que está estadísticamente en equilibrio si\n",
    "### $\\frac{1}{2} \\frac{d^2}{dt^2} \\sum_i (m_i r_i^2) = 0$\n",
    "### $\\therefore 2K = -W \\Leftrightarrow$ el sistema está en equilibrio.\n",
    "#### Y esto es conocido como el *Teorema del Virial*."
   ]
  },
  {
   "cell_type": "code",
   "execution_count": null,
   "id": "949e3695-36bc-4d0c-844e-4093256f82ea",
   "metadata": {},
   "outputs": [],
   "source": []
  }
 ],
 "metadata": {
  "kernelspec": {
   "display_name": "Python 3",
   "language": "python",
   "name": "python3"
  },
  "language_info": {
   "codemirror_mode": {
    "name": "ipython",
    "version": 3
   },
   "file_extension": ".py",
   "mimetype": "text/x-python",
   "name": "python",
   "nbconvert_exporter": "python",
   "pygments_lexer": "ipython3",
   "version": "3.8.8"
  }
 },
 "nbformat": 4,
 "nbformat_minor": 5
}
