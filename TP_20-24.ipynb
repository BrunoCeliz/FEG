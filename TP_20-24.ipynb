{
 "cells": [
  {
   "cell_type": "markdown",
   "id": "1725a6cb-d827-4b49-94cd-9a21cf0c4fae",
   "metadata": {},
   "source": [
    "# 20)\n",
    "*Hacer?...*"
   ]
  },
  {
   "cell_type": "markdown",
   "id": "5477d3b9-87d4-4d53-bebe-ea2aebf1e140",
   "metadata": {},
   "source": [
    "# 21)\n",
    "*Ídem 20...*"
   ]
  },
  {
   "cell_type": "markdown",
   "id": "867c6c29-892f-4862-9650-1116d68050cf",
   "metadata": {},
   "source": [
    "# 22)\n",
    "#### Veamos cómo deducir la ecuación para el momento angular de un protohalo en la Teoría de Torque Tidal:\n",
    "#### Bajo una cosmología FRW, en la *matter dominated era* (i.e. $t > t_{dec} > t_{eq}$), pero todavía en el régimen de pequeñas perturbaciones $(\\delta \\ll 1)$, veamos la dinámica de un fluido no-colisional, influenciado únicamente por la gravedad. El momento angular de una perturbación viene dado por:\n",
    "### $L(t) = \\int_{\\gamma} \\rho(r,t)[r(t) - r_{CM}(t)] \\times [v(t) - v_{CM}(t)] d^3r$\n",
    "#### * *$\\gamma$ es el espacio Euleriano que abarca la sobredensidad.*\n",
    "#### Como queremos saber el momento angular respecto al CM del sistema, no consideramos $v_{CM}$. Pasando a comóviles:\n",
    "### $x = \\frac{r}{a(t)}$; $d^3r = a^3 d^3x$; $v = a \\frac{dx}{dt}$ y $\\rho = \\overline{\\rho} (\\delta +1)$\n",
    "#### Resulta\n",
    "### $L(t) = \\overline{\\rho}(t) \\int_{\\gamma} (\\delta +1) a(t) [x(t) - x_{CM}(t)] \\times a(t) \\dot{x}(t) a^3 d^3x$\n",
    "#### Como es *matter dominated era*:\n",
    "### $\\overline{\\rho} \\propto a^{-3} \\Rightarrow \\overline{\\rho}(t) a^3(t) = cte = \\overline{\\rho}_0 a^3_0$\n",
    "#### Si pensamos, en vez de un espacio Euleriano, un espacio Lagrangiano $(\\gamma \\rightarrow \\Gamma)$ aplicamos pequeñas perturbaciones:\n",
    "### $x(q,t) = q + S(q,t)$\n",
    "#### Luego, necesitamos el Jacobiano de la transformación $(\\neq 0)$, pero, por la ecuación de continuidad\n",
    "### $1+\\delta = J^{-1}$\n",
    "#### Entonces el momento angular para coordenadas Lagrageanas resulta:\n",
    "### $L(t) = a^2 \\overline{\\rho}_0 a_0^3 \\int_{\\Gamma} [q(t) - \\overline{q} + S(q,t) - \\overline{S}] \\times \\dot{S}(q,t) d^3q$\n",
    "#### Luego, para escribir $S(q,t)$ usamos la aproximación de Zel'Dovich, que es lineal en un espacio Lagrangeano. Esta aproximación asume una proporcionalidad entre velocidad y el potencial gravitatorio, además de ser paralelos. Como seguimos en régimen lineal, se cumple $\\delta(t) \\propto D(t)$:\n",
    "### $S(q,t) = -D(t) \\nabla \\Phi(q)$; con $\\Phi(q) = \\frac{\\Phi(q,t)}{4 \\pi G a^2(t) D(t)}$\n",
    "#### Entonces,\n",
    "### $L(t) = -a^2 \\overline{\\rho}_0 a_0^3 \\int_{\\Gamma} [q(t) - \\overline{q}] \\times \\dot{D}(t) \\nabla \\Phi(q) d^3q$\n",
    "#### *Donde el término de $S(q,t)$ se hace 0 por ser paralelo al potencial.*\n",
    "#### Entonces, $L \\propto a^2\\dot{D}(t)$. Como $a^2\\dot{D}(t) \\propto D^{3/2}$ y EdS $\\Rightarrow D(a) \\propto a \\propto t^{2/3}$, resulta que $L \\propto t$.\n",
    "#### Ahora, si $\\Phi$ es suficientemente suave, podemos hacer una expansión en Serie de Taylor a 2º orden, cetrado en el CM $\\overline{q}$. Sea $q' = (q - \\overline{q})$:\n",
    "### $\\Phi(q') \\approx \\Phi(0) + \\frac{\\partial \\Phi}{\\partial q'_i} \\mid_{q'_i = 0} q'_i + \\frac{1}{2} \\frac{\\partial^2 \\Phi}{\\partial q'_i q'_j} \\mid_{q' = 0} q'_i q'_j$\n",
    "#### Definimos\n",
    "### $D_{ij} = - \\frac{\\partial^2 \\Phi}{\\partial q'_i q'_j} \\mid_{q' = 0}$ \"Tensor de deformación\"\n",
    "### $I_{ij} = \\overline{\\rho}_0 a^3_0 \\int_{\\Gamma} q'_i q'_j d^3q'$ \"Tensor de inercia de $\\Gamma$\"\n",
    "#### Reemplazamos en la ecuación de $L$ y llegamos a\n",
    "### $\\therefore L_i(t) = a^2(t) \\dot{D}(t) \\epsilon_{ijk} D_{jl} I_{lk}$"
   ]
  },
  {
   "cell_type": "markdown",
   "id": "ae1e5859-1d51-42d4-b4da-f959808de20f",
   "metadata": {},
   "source": [
    "# 23)\n",
    "#### La distribución del momento angular específico $\\mathcal{J}$ de un halo de materia oscura viene dada por\n",
    "### $P(\\mathcal{J}) = \\frac{\\mu \\mathcal{J}_0}{(\\mathcal{J}_0 + \\mathcal{J})^2}$ para $\\mathcal{J} \\geq 0$; con $\\mu$ un \"parámetro de forma\".\n",
    "#### Esta distribución está normalizada, tal que \n",
    "### $M(< \\mathcal{J}) = M_{vir} \\frac{\\mu \\mathcal{J}}{\\mathcal{J}_0 + \\mathcal{J}}$ para $\\mathcal{J} \\geq 0$.\n",
    "#### Así, podemos definir un $\\mathcal{J}_{max}$: $M(< \\mathcal{J}_{max}) = M_{vir}$. Es decir,\n",
    "### $M(< \\mathcal{J}_{max}) = M_{vir} \\frac{\\mu \\mathcal{J}_{max}}{\\mathcal{J}_0 + \\mathcal{J}_{max}} = M_{vir}$\n",
    "### $1 = \\frac{\\mu \\mathcal{J}_{max}}{\\mathcal{J}_0 + \\mathcal{J}_{max}}$\n",
    "### $\\mu = \\frac{\\mathcal{J}_0}{\\mathcal{J}_{max}} +1$; o $\\mathcal{J}_{max} = \\frac{\\mathcal{J}_0}{\\mu - 1}$\n",
    "#### Por otro lado, para calcular el momento angular específico total $\\mathcal{J}_{tot}$ hacemos\n",
    "### $\\mathcal{J}_{tot} = \\int_0^{\\mathcal{J}_{max}} \\mathcal{J} P(\\mathcal{J}) d\\mathcal{J}$\n",
    "### $\\mathcal{J}_{tot} = \\int_0^{\\mathcal{J}_{max}} \\mathcal{J} \\frac{\\mu \\mathcal{J}_0}{(\\mathcal{J}_0 + \\mathcal{J})^2} d\\mathcal{J}$\n",
    "### $\\mathcal{J}_{tot} = \\mu \\mathcal{J}_0 [\\frac{1}{1 + \\frac{\\mathcal{J}_{max}}{\\mathcal{J}_0}} + ln(\\mathcal{J}_0 + \\mathcal{J}_{max}) -1 -ln(\\mathcal{J}_0)]$\n",
    "### $\\mathcal{J}_{tot} = \\mu \\mathcal{J}_0 [\\frac{-1}{1 + \\frac{\\mathcal{J}_0}{\\mathcal{J}_{max}}} + ln(1 + \\frac{\\mathcal{J}_{max}}{\\mathcal{J}_0})]$\n",
    "#### Como $\\mu = \\frac{\\mathcal{J}_0}{\\mathcal{J}_{max}} +1$; $\\mathcal{J}_{max} = \\frac{\\mathcal{J}_0}{\\mu - 1}$ y $\\mathcal{J}_0 = \\mathcal{J}_{max} (\\mu -1)$, podemos llegar a \n",
    "### $\\mathcal{J}_{tot} = - \\mathcal{J}_0 + \\mu \\mathcal{J}_0 ln(\\frac{\\mu}{\\mu -1})$\n",
    "### $\\mathcal{J}_{tot} = \\mathcal{J}_{max}(1-\\mu) + \\mu \\mathcal{J}_{max} (\\mu-1) ln(\\frac{\\mu}{\\mu -1})$\n",
    "### $\\mathcal{J}_{tot} = \\mathcal{J}_{max}(1 - \\mu[1- (\\mu-1)ln(\\frac{\\mu}{\\mu -1})]) = \\mathcal{J}_{max} \\cdot f(\\mu)$"
   ]
  },
  {
   "cell_type": "markdown",
   "id": "5ff7642b-224a-4dcc-b719-aebdc7694b99",
   "metadata": {},
   "source": [
    "# 24)\n",
    "*Debería preg a ver si a lo que yo llegué está bien o no...*"
   ]
  },
  {
   "cell_type": "code",
   "execution_count": null,
   "id": "ad2485f0-dfeb-406b-8b43-d523031a4be8",
   "metadata": {},
   "outputs": [],
   "source": []
  }
 ],
 "metadata": {
  "kernelspec": {
   "display_name": "Python 3",
   "language": "python",
   "name": "python3"
  },
  "language_info": {
   "codemirror_mode": {
    "name": "ipython",
    "version": 3
   },
   "file_extension": ".py",
   "mimetype": "text/x-python",
   "name": "python",
   "nbconvert_exporter": "python",
   "pygments_lexer": "ipython3",
   "version": "3.8.8"
  }
 },
 "nbformat": 4,
 "nbformat_minor": 5
}
